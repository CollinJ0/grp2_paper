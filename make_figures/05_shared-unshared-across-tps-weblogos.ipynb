{
 "cells": [
  {
   "cell_type": "code",
   "execution_count": 5,
   "metadata": {},
   "outputs": [],
   "source": [
    "from __future__ import print_function\n",
    "\n",
    "from collections import Counter\n",
    "import os\n",
    "import subprocess as sp\n",
    "import sys\n",
    "\n",
    "import seaborn as sns\n",
    "import matplotlib as mpl\n",
    "import matplotlib.pyplot as plt\n",
    "\n",
    "import numpy as np\n",
    "import pandas as pd\n",
    "\n",
    "from natsort import natsorted\n",
    "\n",
    "from weblogo import read_seq_data, LogoData, LogoOptions, LogoFormat, eps_formatter\n",
    "from weblogo.colorscheme import ColorScheme, IndexColor, SymbolColor\n",
    "\n",
    "from abutils.utils.pipeline import list_files, make_dir\n",
    "\n",
    "%matplotlib inline"
   ]
  },
  {
   "cell_type": "code",
   "execution_count": 16,
   "metadata": {},
   "outputs": [],
   "source": [
    "opts_kwargs = {'unit_name': 'probability',\n",
    "               'show_xaxis': False,\n",
    "               'show_yaxis': False,\n",
    "               'show_fineprint': False,\n",
    "               'stack_aspect_ratio': 3}\n",
    "\n",
    "rules_13AA = [IndexColor(range(3), '#C0C0C0'),\n",
    "              IndexColor(range(10, 13), '#C0C0C0'),\n",
    "              SymbolColor(\"GSTYC\", \"green\", \"polar\"),\n",
    "              SymbolColor(\"NQ\", \"purple\", \"neutral\"),\n",
    "              SymbolColor(\"KRH\", \"blue\", \"basic\"),\n",
    "              SymbolColor(\"DE\", \"red\", \"acidic\"),\n",
    "              SymbolColor(\"PAWFLIMV\", \"black\", \"hydrophobic\")]\n",
    "\n",
    "colorscheme_13AA = ColorScheme(rules_13AA)\n",
    "\n",
    "options = LogoOptions(**opts_kwargs)\n",
    "options.color_scheme = colorscheme_13AA"
   ]
  },
  {
   "cell_type": "markdown",
   "metadata": {},
   "source": [
    "# D103"
   ]
  },
  {
   "cell_type": "code",
   "execution_count": 15,
   "metadata": {},
   "outputs": [],
   "source": [
    "files_13AA = {'D103_observed_shared': '../data_processing/data/shared_unshared_cdr3aa/D103-shared-cdr3aa',\n",
    "             'D103_observed_unshared': '../data_processing/data/shared_unshared_cdr3aa/D103-unshared-cdr3aa',\n",
    "             }\n",
    "\n",
    "for prefix, seq_file in files_13AA.items():\n",
    "    with open(seq_file) as f:\n",
    "        seqs = read_seq_data(f)\n",
    "        data = LogoData.from_seqs(seqs)\n",
    "        fmt = LogoFormat(data, options)\n",
    "        eps = eps_formatter(data, fmt)\n",
    "        with open('./figures/{}_13AA_weblogo.eps'.format(prefix), 'wb') as eps_file:\n",
    "            eps_file.write(eps)"
   ]
  },
  {
   "cell_type": "markdown",
   "metadata": {},
   "source": [
    "# 327059"
   ]
  },
  {
   "cell_type": "code",
   "execution_count": 17,
   "metadata": {},
   "outputs": [],
   "source": [
    "\n",
    "\n",
    "files_13AA = {'327059_observed_shared': '../data_processing/data/shared_unshared_cdr3aa/327059-shared-cdr3aa',\n",
    "             '327059_observed_unshared': '../data_processing/data/shared_unshared_cdr3aa/327059-unshared-cdr3aa',\n",
    "             }\n",
    "\n",
    "for prefix, seq_file in files_13AA.items():\n",
    "    with open(seq_file) as f:\n",
    "        seqs = read_seq_data(f)\n",
    "        data = LogoData.from_seqs(seqs)\n",
    "        fmt = LogoFormat(data, options)\n",
    "        eps = eps_formatter(data, fmt)\n",
    "        with open('./figures/{}_13AA_weblogo.eps'.format(prefix), 'wb') as eps_file:\n",
    "            eps_file.write(eps)"
   ]
  }
 ],
 "metadata": {
  "kernelspec": {
   "display_name": "Python 3 (ipykernel)",
   "language": "python",
   "name": "python3"
  },
  "language_info": {
   "codemirror_mode": {
    "name": "ipython",
    "version": 3
   },
   "file_extension": ".py",
   "mimetype": "text/x-python",
   "name": "python",
   "nbconvert_exporter": "python",
   "pygments_lexer": "ipython3",
   "version": "3.11.7"
  }
 },
 "nbformat": 4,
 "nbformat_minor": 4
}
