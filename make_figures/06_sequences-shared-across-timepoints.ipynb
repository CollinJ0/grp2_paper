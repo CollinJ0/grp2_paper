{
 "cells": [
  {
   "cell_type": "code",
   "execution_count": 1,
   "metadata": {},
   "outputs": [],
   "source": [
    "import subprocess as sp\n",
    "import pandas as pd\n",
    "import seaborn as sns\n",
    "import matplotlib.pyplot as plt"
   ]
  },
  {
   "cell_type": "markdown",
   "metadata": {},
   "source": [
    "# D103"
   ]
  },
  {
   "cell_type": "code",
   "execution_count": 13,
   "metadata": {},
   "outputs": [],
   "source": [
    "shared_cmd=\"grep '      2 I' data/dedup_cross-year_sequence_pools/D103-2016-D103-2021_dedup_pool_vdj-nt_with-counts.txt\"\n",
    "\n",
    "\n",
    "p = sp.Popen(shared_cmd, stdout=sp.PIPE, stderr=sp.PIPE, shell=True, encoding='utf8')\n",
    "stdout, stderr = p.communicate()\n",
    "\n",
    "shared=stdout.split('\\n')[:-1]\n",
    "shared=[s[8:] for s in shared]"
   ]
  },
  {
   "cell_type": "code",
   "execution_count": 14,
   "metadata": {},
   "outputs": [],
   "source": [
    "unshared_cmd=\"grep '      1 I' data/dedup_cross-year_sequence_pools/D103-2016-D103-2021_dedup_pool_vdj-nt_with-counts.txt\"\n",
    "\n",
    "\n",
    "p = sp.Popen(unshared_cmd, stdout=sp.PIPE, stderr=sp.PIPE, shell=True, encoding='utf8')\n",
    "stdout, stderr = p.communicate()\n",
    "\n",
    "unshared=stdout.split('\\n')[:-1]\n",
    "unshared=[us[8:] for us in unshared]"
   ]
  },
  {
   "cell_type": "code",
   "execution_count": 15,
   "metadata": {},
   "outputs": [],
   "source": [
    "D103_2016_total=6602140\n",
    "D103_2021_total=2794506\n",
    "D103_shared=len(shared)\n"
   ]
  },
  {
   "cell_type": "code",
   "execution_count": 16,
   "metadata": {},
   "outputs": [
    {
     "data": {
      "text/plain": [
       "6586823"
      ]
     },
     "execution_count": 16,
     "metadata": {},
     "output_type": "execute_result"
    }
   ],
   "source": [
    "(D103_2016_total-D103_shared)"
   ]
  },
  {
   "cell_type": "code",
   "execution_count": 17,
   "metadata": {},
   "outputs": [
    {
     "data": {
      "text/plain": [
       "2779189"
      ]
     },
     "execution_count": 17,
     "metadata": {},
     "output_type": "execute_result"
    }
   ],
   "source": [
    "(D103_2021_total-D103_shared)"
   ]
  },
  {
   "cell_type": "code",
   "execution_count": 30,
   "metadata": {},
   "outputs": [
    {
     "data": {
      "text/plain": [
       "0.2320005331604601"
      ]
     },
     "execution_count": 30,
     "metadata": {},
     "output_type": "execute_result"
    }
   ],
   "source": [
    "(D103_shared/(D103_2016_total))*100"
   ]
  },
  {
   "cell_type": "markdown",
   "metadata": {},
   "source": [
    "# 327059"
   ]
  },
  {
   "cell_type": "code",
   "execution_count": 23,
   "metadata": {},
   "outputs": [],
   "source": [
    "shared_cmd=\"grep '      2 I' data/dedup_cross-year_sequence_pools/327059-2016-327059-2020_dedup_pool_vdj-nt_with-counts.txt\"\n",
    "\n",
    "\n",
    "p = sp.Popen(shared_cmd, stdout=sp.PIPE, stderr=sp.PIPE, shell=True, encoding='utf8')\n",
    "stdout, stderr = p.communicate()\n",
    "\n",
    "shared=stdout.split('\\n')[:-1]\n",
    "shared=[s[8:] for s in shared]"
   ]
  },
  {
   "cell_type": "code",
   "execution_count": 24,
   "metadata": {},
   "outputs": [],
   "source": [
    "unshared_cmd=\"grep '      1 I' data/dedup_cross-year_sequence_pools/327059-2016-327059-2020_dedup_pool_vdj-nt_with-counts.txt\"\n",
    "\n",
    "\n",
    "p = sp.Popen(unshared_cmd, stdout=sp.PIPE, stderr=sp.PIPE, shell=True, encoding='utf8')\n",
    "stdout, stderr = p.communicate()\n",
    "\n",
    "unshared=stdout.split('\\n')[:-1]\n",
    "unshared=[us[8:] for us in unshared]"
   ]
  },
  {
   "cell_type": "code",
   "execution_count": 25,
   "metadata": {},
   "outputs": [],
   "source": [
    "D327059_2016_total=18893343\n",
    "D327059_2020_total=8270945\n",
    "D327059_shared=len(shared)\n"
   ]
  },
  {
   "cell_type": "code",
   "execution_count": 26,
   "metadata": {},
   "outputs": [
    {
     "data": {
      "text/plain": [
       "18809267"
      ]
     },
     "execution_count": 26,
     "metadata": {},
     "output_type": "execute_result"
    }
   ],
   "source": [
    "(D327059_2016_total-D327059_shared)"
   ]
  },
  {
   "cell_type": "code",
   "execution_count": 27,
   "metadata": {},
   "outputs": [
    {
     "data": {
      "text/plain": [
       "8186869"
      ]
     },
     "execution_count": 27,
     "metadata": {},
     "output_type": "execute_result"
    }
   ],
   "source": [
    "(D327059_2020_total-D327059_shared)"
   ]
  },
  {
   "cell_type": "code",
   "execution_count": 28,
   "metadata": {},
   "outputs": [
    {
     "data": {
      "text/plain": [
       "84076"
      ]
     },
     "execution_count": 28,
     "metadata": {},
     "output_type": "execute_result"
    }
   ],
   "source": [
    "D327059_shared"
   ]
  },
  {
   "cell_type": "code",
   "execution_count": 29,
   "metadata": {},
   "outputs": [
    {
     "data": {
      "text/plain": [
       "0.44500330089809936"
      ]
     },
     "execution_count": 29,
     "metadata": {},
     "output_type": "execute_result"
    }
   ],
   "source": [
    "(D327059_shared/(D327059_2016_total))*100"
   ]
  },
  {
   "cell_type": "markdown",
   "metadata": {},
   "source": [
    "# Turnover rate"
   ]
  },
  {
   "attachments": {
    "addc3215-8fd5-4879-97b3-aeafa2b27984.png": {
     "image/png": "[encoded data removed]"
    }
   },
   "cell_type": "markdown",
   "metadata": {},
   "source": [
    "![image.png](attachment:addc3215-8fd5-4879-97b3-aeafa2b27984.png)"
   ]
  },
  {
   "cell_type": "code",
   "execution_count": 31,
   "metadata": {},
   "outputs": [],
   "source": [
    "#D103 turnover rate\n",
    "num_appearing=D103_2021_total-D103_shared\n",
    "num_disappearing=+D103_2016_total-D103_shared\n",
    "total_number_obs=D103_2021_total+D103_2016_total\n",
    "\n",
    "D103_turnover_rate=((num_appearing+num_disappearing)/total_number_obs)*100"
   ]
  },
  {
   "cell_type": "code",
   "execution_count": 32,
   "metadata": {},
   "outputs": [
    {
     "data": {
      "text/plain": [
       "99.67399005985753"
      ]
     },
     "execution_count": 32,
     "metadata": {},
     "output_type": "execute_result"
    }
   ],
   "source": [
    "D103_turnover_rate"
   ]
  },
  {
   "cell_type": "code",
   "execution_count": 33,
   "metadata": {},
   "outputs": [],
   "source": [
    "#D327059 turnover rate\n",
    "num_appearing=D327059_2020_total-D327059_shared\n",
    "num_disappearing=+D327059_2016_total-D327059_shared\n",
    "total_number_obs=D327059_2020_total+D327059_2016_total\n",
    "\n",
    "D327059_turnover_rate=((num_appearing+num_disappearing)/total_number_obs)*100"
   ]
  },
  {
   "cell_type": "code",
   "execution_count": 34,
   "metadata": {},
   "outputs": [
    {
     "data": {
      "text/plain": [
       "99.3809813826153"
      ]
     },
     "execution_count": 34,
     "metadata": {},
     "output_type": "execute_result"
    }
   ],
   "source": [
    "D327059_turnover_rate"
   ]
  },
  {
   "cell_type": "code",
   "execution_count": 42,
   "metadata": {},
   "outputs": [],
   "source": [
    "data=[{'Donor': 'D103', 'turnover rate': D103_turnover_rate, 'type': 'sequence'}, \n",
    "      {'Donor': 'D327059', 'turnover rate': D327059_turnover_rate, 'type': 'sequence'},\n",
    "      {'Donor': 'D103', 'turnover rate': 98.5, 'type': 'clonotype'}, \n",
    "      {'Donor': 'D327059', 'turnover rate': 97.4, 'type': 'clonotype'}]"
   ]
  },
  {
   "cell_type": "code",
   "execution_count": 43,
   "metadata": {},
   "outputs": [],
   "source": [
    "df=pd.DataFrame(data)"
   ]
  },
  {
   "cell_type": "code",
   "execution_count": 53,
   "metadata": {},
   "outputs": [
    {
     "data": {
      "image/png": "[encoded data removed]",
      "text/plain": [
       "<Figure size 198x288 with 1 Axes>"
      ]
     },
     "metadata": {
      "needs_background": "light"
     },
     "output_type": "display_data"
    }
   ],
   "source": [
    "plt.figure(figsize=(2.75,4))\n",
    "ax=sns.boxplot(data=df, x='type', y='turnover rate',fliersize=0, saturation=1.,\n",
    "            palette=['0.8', '0.9'],\n",
    "            hue_order=['All', 'IgM (<2 mutations)', 'IgM (2+ mutations)', 'IgG'],\n",
    "            linewidth=2)\n",
    "# sns.stripplot(data=df, x='type', y='turnover rate', ax=ax, palette=['0.25', '0.25', '0.25', '0.25'], alpha=0.5)\n",
    "ax.set_ylim(95,100)\n",
    "for y in np.arange(93, 101, 1):\n",
    "    ls = ':'\n",
    "    lw = 1\n",
    "    alpha=0.5\n",
    "    plt.axhline(y=y, xmin=0, xmax=10, linewidth=lw, color='k', linestyle=ls, alpha=alpha)\n",
    "    \n",
    "ax.set_ylabel('turnover rate (%)', fontsize=14)\n",
    "ax.set_xlabel('', fontsize=14)\n",
    "# axis tick appearance\n",
    "ax.tick_params(axis='x', labelsize=12, direction='out', width=1.5, length=6, pad=8, top=False)\n",
    "ax.tick_params(axis='y', which='major', labelsize=12, length=6, width=1.25, pad=4, right=False, left=False)\n",
    "# remove top, left and right spines\n",
    "ax.spines['top'].set_visible(False)\n",
    "ax.spines['right'].set_visible(False)\n",
    "ax.spines['left'].set_visible(False)\n",
    "plt.tight_layout()\n",
    "plt.savefig('../make_figures/figures/turnover_rate.pdf', dpi=300)\n",
    "plt.show()"
   ]
  },
  {
   "cell_type": "code",
   "execution_count": 40,
   "metadata": {},
   "outputs": [],
   "source": [
    "import numpy as np"
   ]
  },
  {
   "cell_type": "code",
   "execution_count": 54,
   "metadata": {},
   "outputs": [
    {
     "data": {
      "text/plain": [
       "99.67399005985753"
      ]
     },
     "execution_count": 54,
     "metadata": {},
     "output_type": "execute_result"
    }
   ],
   "source": [
    "D103_turnover_rate"
   ]
  },
  {
   "cell_type": "code",
   "execution_count": 55,
   "metadata": {},
   "outputs": [
    {
     "data": {
      "text/plain": [
       "99.3809813826153"
      ]
     },
     "execution_count": 55,
     "metadata": {},
     "output_type": "execute_result"
    }
   ],
   "source": [
    "D327059_turnover_rate"
   ]
  },
  {
   "cell_type": "code",
   "execution_count": 56,
   "metadata": {},
   "outputs": [
    {
     "data": {
      "text/plain": [
       "99.52748572123642"
      ]
     },
     "execution_count": 56,
     "metadata": {},
     "output_type": "execute_result"
    }
   ],
   "source": [
    "(D103_turnover_rate+D327059_turnover_rate)/2"
   ]
  },
  {
   "cell_type": "code",
   "execution_count": null,
   "metadata": {},
   "outputs": [],
   "source": []
  }
 ],
 "metadata": {
  "kernelspec": {
   "display_name": "Python 3 (ipykernel)",
   "language": "python",
   "name": "python3"
  },
  "language_info": {
   "codemirror_mode": {
    "name": "ipython",
    "version": 3
   },
   "file_extension": ".py",
   "mimetype": "text/x-python",
   "name": "python",
   "nbconvert_exporter": "python",
   "pygments_lexer": "ipython3",
   "version": "3.11.7"
  }
 },
 "nbformat": 4,
 "nbformat_minor": 4
}
