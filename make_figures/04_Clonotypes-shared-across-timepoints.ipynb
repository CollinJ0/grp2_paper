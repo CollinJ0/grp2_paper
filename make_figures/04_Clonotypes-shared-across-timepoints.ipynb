{
 "cells": [
  {
   "cell_type": "code",
   "execution_count": 62,
   "metadata": {},
   "outputs": [],
   "source": [
    "import subprocess as sp\n",
    "import pandas as pd\n",
    "import seaborn as sns\n",
    "import matplotlib.pyplot as plt"
   ]
  },
  {
   "cell_type": "markdown",
   "metadata": {},
   "source": [
    "# D103"
   ]
  },
  {
   "cell_type": "code",
   "execution_count": 165,
   "metadata": {},
   "outputs": [],
   "source": [
    "shared_cmd=\"grep '      2 I' data/dedup_cross-year_clonotype_pools/D103-2016-D103-2021_dedup_pool_vj-aa_with-counts.txt\"\n",
    "\n",
    "\n",
    "p = sp.Popen(shared_cmd, stdout=sp.PIPE, stderr=sp.PIPE, shell=True, encoding='utf8')\n",
    "stdout, stderr = p.communicate()\n",
    "\n",
    "shared=stdout.split('\\n')[:-1]\n",
    "shared=[s[8:] for s in shared]"
   ]
  },
  {
   "cell_type": "code",
   "execution_count": 141,
   "metadata": {},
   "outputs": [],
   "source": [
    "with open('./data/shared_unshared_cdr3aa/D103-shared-cdr3aa', 'w') as file:\n",
    "    for s in shared:\n",
    "        if len(s.split()[2])==13:\n",
    "            file.write(s.split()[2]+'\\n')\n",
    "        else:\n",
    "            continue"
   ]
  },
  {
   "cell_type": "code",
   "execution_count": 149,
   "metadata": {},
   "outputs": [],
   "source": [
    "unshared_cmd=\"grep '      1 I' data/dedup_cross-year_clonotype_pools/D103-2016-D103-2021_dedup_pool_vj-aa_with-counts.txt\"\n",
    "\n",
    "\n",
    "p = sp.Popen(unshared_cmd, stdout=sp.PIPE, stderr=sp.PIPE, shell=True, encoding='utf8')\n",
    "stdout, stderr = p.communicate()\n",
    "\n",
    "unshared=stdout.split('\\n')[:-1]\n",
    "unshared=[us[8:] for us in unshared]"
   ]
  },
  {
   "cell_type": "code",
   "execution_count": 143,
   "metadata": {},
   "outputs": [],
   "source": [
    "with open('./data/shared_unshared_cdr3aa/D103-unshared-cdr3aa', 'w') as file:\n",
    "    for s in unshared:\n",
    "        if len(s.split()[2])==13:\n",
    "            file.write(s.split()[2]+'\\n')\n",
    "        else:\n",
    "            continue"
   ]
  },
  {
   "cell_type": "code",
   "execution_count": 151,
   "metadata": {},
   "outputs": [],
   "source": [
    "from collections import Counter"
   ]
  },
  {
   "cell_type": "code",
   "execution_count": 152,
   "metadata": {},
   "outputs": [],
   "source": [
    "len_data={'shared': Counter([len(s.split()[2]) for s in shared]), 'unshared': Counter([len(s.split()[2]) for s in unshared])}"
   ]
  },
  {
   "cell_type": "code",
   "execution_count": 153,
   "metadata": {},
   "outputs": [],
   "source": [
    "len_df=pd.DataFrame(len_data).fillna(0)\n",
    "\n",
    "len_df=len_df/len_df.sum()"
   ]
  },
  {
   "cell_type": "code",
   "execution_count": 154,
   "metadata": {},
   "outputs": [],
   "source": [
    "len_df.sort_index(inplace=True)"
   ]
  },
  {
   "cell_type": "code",
   "execution_count": 155,
   "metadata": {},
   "outputs": [],
   "source": [
    "def step(x, ys, colors=None, labels=None, figfile=None, figsize=(8, 3), color=[0.3] * 3,\n",
    "                ylim=None, xlim=None, xtick_interval=1, linewidth=1.25, xlabel=None, show_legend=False):\n",
    "    \n",
    "    sns.set_style('white')\n",
    "\n",
    "    # set some reasonable defaults (if not provided)\n",
    "    if xlim is None:\n",
    "        xlim = (-0.5, len(xs))\n",
    "    if ylim is None:\n",
    "        ylim = (0, 1.1 * max([max(y) for y in ys]))\n",
    "    if colors is None:\n",
    "        colors = sns.color_palette('muted', len(ys))\n",
    "    if labels is None:\n",
    "        labels = [None] * len(ys)\n",
    "\n",
    "    # plot the data\n",
    "    plt.figure(figsize=figsize)\n",
    "    for y, color, label in zip(ys, colors, labels):\n",
    "        plot = plt.step(x, y, where='mid', color=color, linewidth=linewidth, label=label)\n",
    "        plt.fill_between(x, y, step='mid', color=color, alpha=0.1)\n",
    "\n",
    "    # axis labels and ticks\n",
    "    ax = plt.gca()\n",
    "    ax.set_ylabel('Frequency', size=14, labelpad=8)\n",
    "    if xlabel is not None:\n",
    "        ax.set_xlabel(xlabel, size=14, labelpad=8)\n",
    "    plt.xticks(x[::xtick_interval], x[::xtick_interval], size='medium')\n",
    "    ax.tick_params(axis='x', which='major', labelsize=12)\n",
    "    ax.tick_params(axis='y', which='major', labelsize=12, length=6, width=1.25, pad=12, right=False)\n",
    "    \n",
    "    # hide top, left and right spines\n",
    "    ax.spines['top'].set_visible(False)\n",
    "    ax.spines['right'].set_visible(False)\n",
    "    ax.spines['left'].set_visible(False)\n",
    "\n",
    "    # axis limits\n",
    "    ax.set_xlim(xlim)\n",
    "    if ylim is not None:\n",
    "        ax.set_ylim(ylim)\n",
    "    \n",
    "    # legend\n",
    "    if show_legend:\n",
    "        plt.legend(fontsize=12, handlelength=1)\n",
    "    \n",
    "    # save or show\n",
    "    plt.tight_layout()\n",
    "    if figfile is not None:\n",
    "        plt.savefig(figfile)\n",
    "    else:\n",
    "        plt.show()"
   ]
  },
  {
   "cell_type": "code",
   "execution_count": 156,
   "metadata": {},
   "outputs": [
    {
     "data": {
      "image/png": "[encoded data removed]",
      "text/plain": [
       "<Figure size 360x216 with 1 Axes>"
      ]
     },
     "metadata": {},
     "output_type": "display_data"
    }
   ],
   "source": [
    "x = len_df.index.values\n",
    "labels = len_df.columns.values\n",
    "ys = [list(len_df[l]) for l in labels]\n",
    "colors = ['r', 'k']\n",
    "\n",
    "step(x, ys, colors=colors, labels=labels, xlim=[1, 30], xtick_interval=2,\n",
    "     figsize=(5, 3), linewidth=1.5, xlabel='CDR3 length (IMGT)', show_legend=True,\n",
    "      figfile='../make_figures/figures/D103_shared_CDR3len_step-plot.pdf'\n",
    "    )"
   ]
  },
  {
   "cell_type": "code",
   "execution_count": null,
   "metadata": {},
   "outputs": [],
   "source": []
  },
  {
   "cell_type": "code",
   "execution_count": 105,
   "metadata": {},
   "outputs": [],
   "source": [
    "D103_2016_total=2917577\n",
    "D103_2021_total=1536004\n",
    "D103_shared=len(shared)\n"
   ]
  },
  {
   "cell_type": "code",
   "execution_count": 106,
   "metadata": {},
   "outputs": [
    {
     "data": {
      "text/plain": [
       "2884743"
      ]
     },
     "execution_count": 106,
     "metadata": {},
     "output_type": "execute_result"
    }
   ],
   "source": [
    "(D103_2016_total-D103_shared)"
   ]
  },
  {
   "cell_type": "code",
   "execution_count": 107,
   "metadata": {},
   "outputs": [
    {
     "data": {
      "text/plain": [
       "1503170"
      ]
     },
     "execution_count": 107,
     "metadata": {},
     "output_type": "execute_result"
    }
   ],
   "source": [
    "(D103_2021_total-D103_shared)"
   ]
  },
  {
   "cell_type": "code",
   "execution_count": 109,
   "metadata": {},
   "outputs": [
    {
     "data": {
      "text/plain": [
       "1.1253858938427332"
      ]
     },
     "execution_count": 109,
     "metadata": {},
     "output_type": "execute_result"
    }
   ],
   "source": [
    "(D103_shared/(D103_2016_total))*100"
   ]
  },
  {
   "cell_type": "markdown",
   "metadata": {},
   "source": [
    "# 327059"
   ]
  },
  {
   "cell_type": "code",
   "execution_count": 157,
   "metadata": {},
   "outputs": [],
   "source": [
    "shared_cmd=\"grep '      2 I' data/dedup_cross-year_clonotype_pools/327059-2016-327059-2020_dedup_pool_vj-aa_with-counts.txt\"\n",
    "\n",
    "\n",
    "p = sp.Popen(shared_cmd, stdout=sp.PIPE, stderr=sp.PIPE, shell=True, encoding='utf8')\n",
    "stdout, stderr = p.communicate()\n",
    "\n",
    "shared=stdout.split('\\n')[:-1]\n",
    "shared=[s[8:] for s in shared]"
   ]
  },
  {
   "cell_type": "code",
   "execution_count": 145,
   "metadata": {},
   "outputs": [],
   "source": [
    "with open('./data/shared_unshared_cdr3aa/327059-shared-cdr3aa', 'w') as file:\n",
    "    for s in shared:\n",
    "        if len(s.split()[2])==13:\n",
    "            file.write(s.split()[2]+'\\n')\n",
    "        else:\n",
    "            continue"
   ]
  },
  {
   "cell_type": "code",
   "execution_count": 158,
   "metadata": {},
   "outputs": [],
   "source": [
    "unshared_cmd=\"grep '      1 I' data/dedup_cross-year_clonotype_pools/327059-2016-327059-2020_dedup_pool_vj-aa_with-counts.txt\"\n",
    "\n",
    "\n",
    "p = sp.Popen(unshared_cmd, stdout=sp.PIPE, stderr=sp.PIPE, shell=True, encoding='utf8')\n",
    "stdout, stderr = p.communicate()\n",
    "\n",
    "unshared=stdout.split('\\n')[:-1]\n",
    "unshared=[us[8:] for us in unshared]"
   ]
  },
  {
   "cell_type": "code",
   "execution_count": 147,
   "metadata": {},
   "outputs": [],
   "source": [
    "with open('./data/shared_unshared_cdr3aa/327059-unshared-cdr3aa', 'w') as file:\n",
    "    for s in unshared:\n",
    "        try:\n",
    "            if len(s.split()[2])==13:\n",
    "                file.write(s.split()[2]+'\\n')\n",
    "            else:\n",
    "                continue\n",
    "        except IndexError:\n",
    "            continue"
   ]
  },
  {
   "cell_type": "code",
   "execution_count": 160,
   "metadata": {},
   "outputs": [],
   "source": [
    "len_data={'shared': Counter([len(s.split()[2]) for s in shared if len(s.split())==3]), 'unshared': Counter([len(s.split()[2]) for s in unshared if len(s.split())==3])}"
   ]
  },
  {
   "cell_type": "code",
   "execution_count": 161,
   "metadata": {},
   "outputs": [],
   "source": [
    "len_df=pd.DataFrame(len_data).fillna(0)\n",
    "\n",
    "len_df=len_df/len_df.sum()"
   ]
  },
  {
   "cell_type": "code",
   "execution_count": 162,
   "metadata": {},
   "outputs": [],
   "source": [
    "len_df.sort_index(inplace=True)"
   ]
  },
  {
   "cell_type": "code",
   "execution_count": 164,
   "metadata": {},
   "outputs": [
    {
     "data": {
      "image/png": "[encoded data removed]",
      "text/plain": [
       "<Figure size 360x216 with 1 Axes>"
      ]
     },
     "metadata": {},
     "output_type": "display_data"
    }
   ],
   "source": [
    "x = len_df.index.values\n",
    "labels = len_df.columns.values\n",
    "ys = [list(len_df[l]) for l in labels]\n",
    "colors = ['r', 'k']\n",
    "\n",
    "step(x, ys, colors=colors, labels=labels, xlim=[1, 30], xtick_interval=2,\n",
    "     figsize=(5, 3), linewidth=1.5, xlabel='CDR3 length (IMGT)', show_legend=True,\n",
    "      figfile='../make_figures/figures/327059_shared_CDR3len_step-plot.pdf'\n",
    "    )"
   ]
  },
  {
   "cell_type": "code",
   "execution_count": 112,
   "metadata": {},
   "outputs": [],
   "source": [
    "D327059_2016_total=9281663\n",
    "D327059_2020_total=3619333\n",
    "D327059_shared=len(shared)\n"
   ]
  },
  {
   "cell_type": "code",
   "execution_count": 113,
   "metadata": {},
   "outputs": [
    {
     "data": {
      "text/plain": [
       "9113722"
      ]
     },
     "execution_count": 113,
     "metadata": {},
     "output_type": "execute_result"
    }
   ],
   "source": [
    "(D327059_2016_total-D327059_shared)"
   ]
  },
  {
   "cell_type": "code",
   "execution_count": 114,
   "metadata": {},
   "outputs": [
    {
     "data": {
      "text/plain": [
       "3451392"
      ]
     },
     "execution_count": 114,
     "metadata": {},
     "output_type": "execute_result"
    }
   ],
   "source": [
    "(D327059_2020_total-D327059_shared)"
   ]
  },
  {
   "cell_type": "code",
   "execution_count": 115,
   "metadata": {},
   "outputs": [
    {
     "data": {
      "text/plain": [
       "167941"
      ]
     },
     "execution_count": 115,
     "metadata": {},
     "output_type": "execute_result"
    }
   ],
   "source": [
    "D327059_shared"
   ]
  },
  {
   "cell_type": "code",
   "execution_count": 116,
   "metadata": {},
   "outputs": [
    {
     "data": {
      "text/plain": [
       "1.809384805287587"
      ]
     },
     "execution_count": 116,
     "metadata": {},
     "output_type": "execute_result"
    }
   ],
   "source": [
    "(D327059_shared/(D327059_2016_total))*100"
   ]
  },
  {
   "cell_type": "markdown",
   "metadata": {},
   "source": [
    "# Turnover rate"
   ]
  },
  {
   "attachments": {
    "addc3215-8fd5-4879-97b3-aeafa2b27984.png": {
     "image/png": "[encoded data removed]"
    }
   },
   "cell_type": "markdown",
   "metadata": {},
   "source": [
    "![image.png](attachment:addc3215-8fd5-4879-97b3-aeafa2b27984.png)"
   ]
  },
  {
   "cell_type": "code",
   "execution_count": 42,
   "metadata": {},
   "outputs": [],
   "source": [
    "#D103 turnover rate\n",
    "num_appearing=D103_2021_total-D103_shared\n",
    "num_disappearing=+D103_2016_total-D103_shared\n",
    "total_number_obs=D103_2021_total+D103_2016_total\n",
    "\n",
    "D103_turnover_rate=((num_appearing+num_disappearing)/total_number_obs)*100"
   ]
  },
  {
   "cell_type": "code",
   "execution_count": 43,
   "metadata": {},
   "outputs": [
    {
     "data": {
      "text/plain": [
       "98.52550116411939"
      ]
     },
     "execution_count": 43,
     "metadata": {},
     "output_type": "execute_result"
    }
   ],
   "source": [
    "D103_turnover_rate"
   ]
  },
  {
   "cell_type": "code",
   "execution_count": 44,
   "metadata": {},
   "outputs": [],
   "source": [
    "#D327059 turnover rate\n",
    "num_appearing=D327059_2020_total-D327059_shared\n",
    "num_disappearing=+D327059_2016_total-D327059_shared\n",
    "total_number_obs=D327059_2020_total+D327059_2016_total\n",
    "\n",
    "D327059_turnover_rate=((num_appearing+num_disappearing)/total_number_obs)*100"
   ]
  },
  {
   "cell_type": "code",
   "execution_count": 45,
   "metadata": {},
   "outputs": [
    {
     "data": {
      "text/plain": [
       "97.39646458304459"
      ]
     },
     "execution_count": 45,
     "metadata": {},
     "output_type": "execute_result"
    }
   ],
   "source": [
    "D327059_turnover_rate"
   ]
  },
  {
   "cell_type": "code",
   "execution_count": 47,
   "metadata": {},
   "outputs": [
    {
     "data": {
      "text/plain": [
       "97.95"
      ]
     },
     "execution_count": 47,
     "metadata": {},
     "output_type": "execute_result"
    }
   ],
   "source": [
    "(98.5+97.4)/2"
   ]
  },
  {
   "cell_type": "code",
   "execution_count": 50,
   "metadata": {},
   "outputs": [
    {
     "data": {
      "text/plain": [
       "1.1253858938427332"
      ]
     },
     "execution_count": 50,
     "metadata": {},
     "output_type": "execute_result"
    }
   ],
   "source": [
    "(D103_shared/(D103_2016_total))*100"
   ]
  },
  {
   "cell_type": "code",
   "execution_count": 70,
   "metadata": {},
   "outputs": [],
   "source": [
    "data=[{'Donor': 'D103', 'turnover rate': D103_turnover_rate, 'sample': 'total'}, \n",
    "      {'Donor': 'D327059', 'turnover rate': D327059_turnover_rate, 'sample': 'total'}]"
   ]
  },
  {
   "cell_type": "code",
   "execution_count": 71,
   "metadata": {},
   "outputs": [],
   "source": [
    "df=pd.DataFrame(data)"
   ]
  },
  {
   "cell_type": "code",
   "execution_count": 85,
   "metadata": {},
   "outputs": [
    {
     "name": "stderr",
     "output_type": "stream",
     "text": [
      "<ipython-input-85-cb9d122bb562>:6: FutureWarning: Passing `palette` without assigning `hue` is deprecated.\n",
      "  sns.stripplot(data=df, x='sample', y='turnover rate', ax=ax, palette=['0.25', '0.25', '0.25', '0.25'])\n",
      "<ipython-input-85-cb9d122bb562>:6: UserWarning: The palette list has more values (4) than needed (1), which may not be intended.\n",
      "  sns.stripplot(data=df, x='sample', y='turnover rate', ax=ax, palette=['0.25', '0.25', '0.25', '0.25'])\n"
     ]
    },
    {
     "data": {
      "image/png": "[encoded data removed]",
      "text/plain": [
       "<Figure size 144x288 with 1 Axes>"
      ]
     },
     "metadata": {
      "needs_background": "light"
     },
     "output_type": "display_data"
    }
   ],
   "source": [
    "plt.figure(figsize=(2,4))\n",
    "ax=sns.boxplot(data=df, x='sample', y='turnover rate',fliersize=0, saturation=1.,\n",
    "            palette=['0.8', '0.9'],\n",
    "            hue_order=['All', 'IgM (<2 mutations)', 'IgM (2+ mutations)', 'IgG'],\n",
    "            linewidth=2)\n",
    "sns.stripplot(data=df, x='sample', y='turnover rate', ax=ax, palette=['0.25', '0.25', '0.25', '0.25'])\n",
    "ax.set_ylim(92,100)\n",
    "for y in np.arange(93, 101, 1):\n",
    "    ls = ':'\n",
    "    lw = 1\n",
    "    alpha=0.5\n",
    "    plt.axhline(y=y, xmin=0, xmax=10, linewidth=lw, color='k', linestyle=ls, alpha=alpha)\n",
    "    \n",
    "ax.set_ylabel('turnover rate (%)', fontsize=14)\n",
    "ax.set_xlabel('', fontsize=14)\n",
    "# axis tick appearance\n",
    "ax.tick_params(axis='x', labelsize=12, direction='out', width=1.5, length=6, pad=8, top=False)\n",
    "ax.tick_params(axis='y', which='major', labelsize=12, length=6, width=1.25, pad=4, right=False, left=False)\n",
    "# remove top, left and right spines\n",
    "ax.spines['top'].set_visible(False)\n",
    "ax.spines['right'].set_visible(False)\n",
    "ax.spines['left'].set_visible(False)\n",
    "plt.tight_layout()\n",
    "plt.savefig('../make_figures/figures/turnover_rate.pdf', dpi=300)\n",
    "plt.show()"
   ]
  },
  {
   "cell_type": "code",
   "execution_count": null,
   "metadata": {},
   "outputs": [],
   "source": []
  }
 ],
 "metadata": {
  "kernelspec": {
   "display_name": "Python 3 (ipykernel)",
   "language": "python",
   "name": "python3"
  },
  "language_info": {
   "codemirror_mode": {
    "name": "ipython",
    "version": 3
   },
   "file_extension": ".py",
   "mimetype": "text/x-python",
   "name": "python",
   "nbconvert_exporter": "python",
   "pygments_lexer": "ipython3",
   "version": "3.11.7"
  }
 },
 "nbformat": 4,
 "nbformat_minor": 4
}
